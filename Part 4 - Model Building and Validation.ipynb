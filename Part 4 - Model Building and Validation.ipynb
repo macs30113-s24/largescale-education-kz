{
 "cells": [
  {
   "cell_type": "code",
   "execution_count": 1,
   "metadata": {},
   "outputs": [
    {
     "name": "stdout",
     "output_type": "stream",
     "text": [
      "Starting Spark application\n"
     ]
    },
    {
     "data": {
      "text/html": [
       "<table>\n",
       "<tr><th>ID</th><th>YARN Application ID</th><th>Kind</th><th>State</th><th>Spark UI</th><th>Driver log</th><th>Current session?</th></tr><tr><td>6</td><td>application_1716515774201_0008</td><td>pyspark</td><td>idle</td><td><a target=\"_blank\" href=\"http://ip-172-31-45-72.ec2.internal:20888/proxy/application_1716515774201_0008/\">Link</a></td><td><a target=\"_blank\" href=\"http://ip-172-31-32-209.ec2.internal:8042/node/containerlogs/container_1716515774201_0008_01_000001/livy\">Link</a></td><td>✔</td></tr></table>"
      ],
      "text/plain": [
       "<IPython.core.display.HTML object>"
      ]
     },
     "metadata": {},
     "output_type": "display_data"
    },
    {
     "data": {
      "application/vnd.jupyter.widget-view+json": {
       "model_id": "",
       "version_major": 2,
       "version_minor": 0
      },
      "text/plain": [
       "FloatProgress(value=0.0, bar_style='info', description='Progress:', layout=Layout(height='25px', width='50%'),…"
      ]
     },
     "metadata": {},
     "output_type": "display_data"
    },
    {
     "name": "stdout",
     "output_type": "stream",
     "text": [
      "SparkSession available as 'spark'.\n"
     ]
    },
    {
     "data": {
      "application/vnd.jupyter.widget-view+json": {
       "model_id": "",
       "version_major": 2,
       "version_minor": 0
      },
      "text/plain": [
       "FloatProgress(value=0.0, bar_style='info', description='Progress:', layout=Layout(height='25px', width='50%'),…"
      ]
     },
     "metadata": {},
     "output_type": "display_data"
    }
   ],
   "source": [
    "from pyspark.sql import SparkSession\n",
    "from pyspark.sql.functions import col, when\n",
    "from pyspark.ml.feature import VectorAssembler\n",
    "from pyspark.ml.classification import LogisticRegression, RandomForestClassifier\n",
    "from pyspark.ml.evaluation import MulticlassClassificationEvaluator\n",
    "from pyspark.ml.tuning import ParamGridBuilder, CrossValidator"
   ]
  },
  {
   "cell_type": "code",
   "execution_count": 2,
   "metadata": {},
   "outputs": [
    {
     "data": {
      "application/vnd.jupyter.widget-view+json": {
       "model_id": "",
       "version_major": 2,
       "version_minor": 0
      },
      "text/plain": [
       "FloatProgress(value=0.0, bar_style='info', description='Progress:', layout=Layout(height='25px', width='50%'),…"
      ]
     },
     "metadata": {},
     "output_type": "display_data"
    }
   ],
   "source": [
    "# Create or retrieve a Spark session\n",
    "spark = SparkSession.builder \\\n",
    "    .appName(\"Online Education Analysis\") \\\n",
    "    .config(\"spark.executor.memory\", \"4g\") \\\n",
    "    .config(\"spark.driver.memory\", \"4g\") \\\n",
    "    .config(\"spark.pyspark.python\", \"python3\") \\\n",
    "    .config(\"spark.pyspark.virtualenv.enabled\", \"true\") \\\n",
    "    .config(\"spark.pyspark.virtualenv.type\", \"native\") \\\n",
    "    .config(\"spark.pyspark.virtualenv.bin.path\", \"/usr/bin/virtualenv\") \\\n",
    "    .getOrCreate()"
   ]
  },
  {
   "cell_type": "code",
   "execution_count": 3,
   "metadata": {},
   "outputs": [
    {
     "data": {
      "application/vnd.jupyter.widget-view+json": {
       "model_id": "",
       "version_major": 2,
       "version_minor": 0
      },
      "text/plain": [
       "FloatProgress(value=0.0, bar_style='info', description='Progress:', layout=Layout(height='25px', width='50%'),…"
      ]
     },
     "metadata": {},
     "output_type": "display_data"
    }
   ],
   "source": [
    "def prepare_data(df):\n",
    "    \"\"\" Prepare data by adding necessary columns for ML \"\"\"\n",
    "    df = df.withColumn('score', col('is_correct').cast('int'))\n",
    "    df = df.withColumn('label', when(col('score') >= 0.6, 1).otherwise(0))\n",
    "    return df"
   ]
  },
  {
   "cell_type": "code",
   "execution_count": 4,
   "metadata": {},
   "outputs": [
    {
     "data": {
      "application/vnd.jupyter.widget-view+json": {
       "model_id": "",
       "version_major": 2,
       "version_minor": 0
      },
      "text/plain": [
       "FloatProgress(value=0.0, bar_style='info', description='Progress:', layout=Layout(height='25px', width='50%'),…"
      ]
     },
     "metadata": {},
     "output_type": "display_data"
    }
   ],
   "source": [
    "def train_models(df):\n",
    "    \"\"\" Train logistic regression and random forest models and evaluate them \"\"\"\n",
    "    assembler = VectorAssembler(inputCols=[\"total_sec_taken\", \"total_attempt_cnt\", \"used_hint_cnt\"], outputCol=\"features\")\n",
    "    data = assembler.transform(df).select('features', 'label')\n",
    "    \n",
    "    train_data, test_data = data.randomSplit([0.7, 0.3], seed=42)\n",
    "    \n",
    "    lr = LogisticRegression(featuresCol='features', labelCol='label')\n",
    "    rf = RandomForestClassifier(featuresCol='features', labelCol='label', numTrees=10)\n",
    "    \n",
    "    lr_model = lr.fit(train_data)\n",
    "    rf_model = rf.fit(train_data)\n",
    "    \n",
    "    evaluator = MulticlassClassificationEvaluator(labelCol='label', predictionCol='prediction', metricName='accuracy')\n",
    "    lr_accuracy = evaluator.evaluate(lr_model.transform(test_data))\n",
    "    rf_accuracy = evaluator.evaluate(rf_model.transform(test_data))\n",
    "    \n",
    "    return lr_model, rf_model, lr_accuracy, rf_accuracy"
   ]
  },
  {
   "cell_type": "code",
   "execution_count": 10,
   "metadata": {
    "scrolled": true
   },
   "outputs": [
    {
     "data": {
      "application/vnd.jupyter.widget-view+json": {
       "model_id": "",
       "version_major": 2,
       "version_minor": 0
      },
      "text/plain": [
       "FloatProgress(value=0.0, bar_style='info', description='Progress:', layout=Layout(height='25px', width='50%'),…"
      ]
     },
     "metadata": {},
     "output_type": "display_data"
    }
   ],
   "source": [
    "def cross_validate_model(df):\n",
    "    \"\"\" Perform cross-validation on logistic regression model \"\"\"\n",
    "    assembler = VectorAssembler(inputCols=[\"total_sec_taken\", \"total_attempt_cnt\", \"used_hint_cnt\"], outputCol=\"features\")\n",
    "    data = assembler.transform(df).select('features', 'label')\n",
    "    \n",
    "    train_data, _ = data.randomSplit([0.7, 0.3], seed=42)\n",
    "    \n",
    "    lr = LogisticRegression(featuresCol='features', labelCol='label')\n",
    "    param_grid = ParamGridBuilder() \\\n",
    "        .addGrid(lr.regParam, [0.01, 0.1, 1.0]) \\\n",
    "        .addGrid(lr.elasticNetParam, [0.0, 0.5, 1.0]) \\\n",
    "        .build()\n",
    "    \n",
    "    evaluator = MulticlassClassificationEvaluator(labelCol='label', predictionCol='prediction', metricName='accuracy')\n",
    "    crossval = CrossValidator(estimator=lr, estimatorParamMaps=param_grid, evaluator=evaluator, numFolds=3)\n",
    "    \n",
    "    cv_model = crossval.fit(train_data)\n",
    "    \n",
    "    return cv_model, assembler"
   ]
  },
  {
   "cell_type": "code",
   "execution_count": 8,
   "metadata": {},
   "outputs": [
    {
     "data": {
      "application/vnd.jupyter.widget-view+json": {
       "model_id": "",
       "version_major": 2,
       "version_minor": 0
      },
      "text/plain": [
       "FloatProgress(value=0.0, bar_style='info', description='Progress:', layout=Layout(height='25px', width='50%'),…"
      ]
     },
     "metadata": {},
     "output_type": "display_data"
    },
    {
     "name": "stdout",
     "output_type": "stream",
     "text": [
      "Logistic Regression Model Accuracy: 0.9965807900136785\n",
      "Random Forest Model Accuracy: 0.9965807900136785"
     ]
    }
   ],
   "source": [
    "# Load the processed data from S3\n",
    "student_performance = spark.read.parquet(\"s3://kz-final-project/student_performance/\")\n",
    "\n",
    "# Prepare the data\n",
    "processed_df = prepare_data(student_performance)\n",
    "lr_model, rf_model, lr_accuracy, rf_accuracy = train_models(processed_df)\n",
    "\n",
    "# Print the results\n",
    "print(\"Logistic Regression Model Accuracy:\", lr_accuracy)\n",
    "print(\"Random Forest Model Accuracy:\", rf_accuracy)"
   ]
  },
  {
   "cell_type": "code",
   "execution_count": 13,
   "metadata": {},
   "outputs": [
    {
     "data": {
      "application/vnd.jupyter.widget-view+json": {
       "model_id": "",
       "version_major": 2,
       "version_minor": 0
      },
      "text/plain": [
       "FloatProgress(value=0.0, bar_style='info', description='Progress:', layout=Layout(height='25px', width='50%'),…"
      ]
     },
     "metadata": {},
     "output_type": "display_data"
    },
    {
     "name": "stdout",
     "output_type": "stream",
     "text": [
      "Best Model Accuracy after Cross-validation: 0.94260342694473\n",
      "Feature Importances:  {'total_sec_taken': 0.0, 'total_attempt_cnt': -2.1948865183659922, 'used_hint_cnt': -2.709100276215105}"
     ]
    }
   ],
   "source": [
    "# Prepare the data\n",
    "cv_model, assembler = cross_validate_model(processed_df) \n",
    "\n",
    "# Get the best model's coefficients and feature names\n",
    "best_model = cv_model.bestModel\n",
    "coefficients = best_model.coefficients\n",
    "features = assembler.getInputCols()\n",
    "coef_list = coefficients.toArray().tolist()\n",
    "feature_importance = dict(zip(features, coef_list))\n",
    "\n",
    "# Print the results\n",
    "print(\"Best Model Accuracy after Cross-validation:\", max(cv_model.avgMetrics))\n",
    "print(\"Feature Importances: \", feature_importance)"
   ]
  }
 ],
 "metadata": {
  "kernelspec": {
   "display_name": "PySpark",
   "language": "",
   "name": "pysparkkernel"
  },
  "language_info": {
   "codemirror_mode": {
    "name": "python",
    "version": 3
   },
   "mimetype": "text/x-python",
   "name": "pyspark",
   "pygments_lexer": "python3"
  }
 },
 "nbformat": 4,
 "nbformat_minor": 4
}
